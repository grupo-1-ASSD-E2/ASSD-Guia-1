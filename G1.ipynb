{
 "cells": [
  {
   "cell_type": "markdown",
   "metadata": {},
   "source": [
    "# $ \\color{cyan}{\\text{EJERCICIO 1}} $\n",
    "## $ \\color{cyan}{\\text{Ítem d}} $\n",
    "\n",
    "$$ x\\left( nT \\right) \\overset{T_k}{\\longrightarrow} x\\left( \\left( n-k \\right) T \\right) \\overset{T[]}{\\longrightarrow} 5 \\cdot nT \\cdot x^2\\left( \\left( n-k \\right) T \\right) $$\n",
    "$$ x\\left( nT \\right) \\overset{T[]}{\\longrightarrow} 5 \\cdot nT \\cdot x^2\\left( nT \\right) \\overset{T_k}{\\longrightarrow} 5 \\cdot \\left( n-k \\right)T \\cdot x^2\\left( \\left( n-k \\right)T \\right) $$\n",
    "\n",
    "Hay diferencias $ \\implies $ **No es invariante**.\n",
    "\n",
    "$$ \\\\ $$\n",
    "\n",
    "Dadas $ x_1(n) $ y $ x_2(n) $ tal que:\n",
    "$$ x_1(nT) = x_2(nT) \\quad \\forall n \\leq k $$\n",
    "$$ x_1(nT) \\neq x_2(nT) \\quad \\forall n>k $$\n",
    "$$ \\left. {T\\left[ x_1(nT) \\right]} \\right|_{n=k} = 5 \\cdot kT \\cdot x_1^2(kT) = 5 \\cdot kT \\cdot x_2^2(kT) = \\left. T\\left[ x_2(nT) \\right] \\right|_{n=k}$$\n",
    "\n",
    "$ \\implies $ **Es causal**.\n",
    "\n",
    "$$ \\\\ $$\n",
    "\n",
    "Dada $ x(nT) = \\alpha x_1(nT) + \\beta x_2(nT) $:\n",
    "$$ T\\left[ x(nT) \\right] = 5 \\cdot nT \\cdot \\left( \\alpha x_1(nT) + \\beta x_2(nT) \\right)^2 $$\n",
    "$$ \\alpha T\\left[ x_1(nT) \\right] + \\beta T\\left[ x_2(nT) \\right] = \\alpha \\cdot 5 \\cdot nT \\cdot x_1^2(nT) + \\beta \\cdot 5 \\cdot nT \\cdot x_2^2(nT) $$\n",
    "\n",
    "Son distintos $ \\implies $ **No es lineal**."
   ]
  },
  {
   "cell_type": "markdown",
   "metadata": {},
   "source": [
    "# $ \\color{cyan}{\\text{EJERCICIO 9}} $\n",
    "![title](Resources/EJ9/ej9_system.png)\n",
    "\n",
    "Hola todo bien"
   ]
  }
 ],
 "metadata": {
  "file_extension": ".py",
  "kernelspec": {
   "display_name": "Python 3.7.3 64-bit",
   "language": "python",
   "name": "python37364bit9776cce1d0db458e8b8031f018b420d0"
  },
  "language_info": {
   "codemirror_mode": {
    "name": "ipython",
    "version": 3
   },
   "file_extension": ".py",
   "mimetype": "text/x-python",
   "name": "python",
   "nbconvert_exporter": "python",
   "pygments_lexer": "ipython3",
   "version": "3.7.3"
  },
  "mimetype": "text/x-python",
  "name": "python",
  "npconvert_exporter": "python",
  "pygments_lexer": "ipython3",
  "version": 3
 },
 "nbformat": 4,
 "nbformat_minor": 2
}